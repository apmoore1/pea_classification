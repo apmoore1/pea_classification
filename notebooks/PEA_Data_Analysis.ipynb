{
  "cells": [
    {
      "cell_type": "markdown",
      "metadata": {
        "id": "view-in-github",
        "colab_type": "text"
      },
      "source": [
        "<a href=\"https://colab.research.google.com/github/apmoore1/pea_classification/blob/master/notebooks/PEA_Data_Analysis.ipynb\" target=\"_parent\"><img src=\"https://colab.research.google.com/assets/colab-badge.svg\" alt=\"Open In Colab\"/></a>"
      ]
    },
    {
      "cell_type": "code",
      "metadata": {
        "id": "PEm1p3DJGnvW",
        "colab_type": "code",
        "colab": {}
      },
      "source": [
        "%%capture\n",
        "! pip install git+git://github.com/apmoore1/pea_classification.git@master#egg=pea_classification\n",
        "! pip install seaborn"
      ],
      "execution_count": 0,
      "outputs": []
    },
    {
      "cell_type": "code",
      "metadata": {
        "id": "LIC0LDR_q0IU",
        "colab_type": "code",
        "outputId": "c7ed3ec8-7235-451d-baf3-f64934cac937",
        "colab": {
          "base_uri": "https://localhost:8080/",
          "height": 34
        }
      },
      "source": [
        "from pathlib import Path\n",
        "\n",
        "#import altair as alt\n",
        "#alt.renderers.enable('colab')\n",
        "import pandas as pd\n",
        "import seaborn as sns\n",
        "import matplotlib\n",
        "import matplotlib.pyplot as plt\n",
        "import numpy as np\n",
        "# Formatting of charts\n",
        "matplotlib.rc('font', size=14)\n",
        "matplotlib.rc('axes', titlesize=14)\n",
        "matplotlib.rc('axes', labelsize=14)\n",
        "matplotlib.rc('legend', fontsize=12)\n",
        "matplotlib.rc('xtick', labelsize=12)\n",
        "matplotlib.rc('ytick', labelsize=12)\n",
        "sns.set_style(\"whitegrid\")\n",
        "\n",
        "import pea_classification"
      ],
      "execution_count": 0,
      "outputs": [
        {
          "output_type": "stream",
          "text": [
            "Using TensorFlow backend.\n"
          ],
          "name": "stderr"
        }
      ]
    },
    {
      "cell_type": "markdown",
      "metadata": {
        "id": "mMIqBVHCKJqS",
        "colab_type": "text"
      },
      "source": [
        "# PEA Data Analysis\n",
        "Preliminary Earnings Announcements (PEA) dataset ([El-Haj et al. 2016](https://www.aclweb.org/anthology/L16-1287.pdf)) consists of sentences from multiple random PEA documents from British firms. Each sentence is annotated with the following annotations:\n",
        "1. If the sentence is talking about the performance of the company, this makes the sentence a performance sentence.\n",
        "2. The sentence contains attribution internally, externally or not at all. Here attribution means whether something within the sentence has been done because of internal or external factors. e.g. This sentence contain internal attribution \"our\n",
        "continuing focus on tight cost control.\"\n",
        "3. The overall tone/sentiment of the sentence.\n",
        "\n",
        "In this analysis we are looking at all three of these annotations.\n",
        "\n",
        "This notebook is broken down into the following sections:\n",
        "1. Exploring the dataset -- Mainly describes the annotations in detail, as well as how to automatically load the dataset.\n",
        "2. Experiments -- Experiments that we have conducted from this dataset, from this we show the data statistics of these different experiments.\n",
        "3. How to train your own Bag Of Words (BOW) method to apply to these experiments, why you should look further than than just accuracy scores, BOW hyperparameter tuning, and under/over sampling.\n",
        "4. How to apply a count based word list to these experiments e.g. L&M and generally to new data.\n",
        "5. How to use pre-trained BOW and word list methods to apply to one of these experiments, as well as new data.\n",
        "\n",
        "## Exploring the dataset\n",
        "\n",
        "Before any analysis can be done we must first load the train and test datasets, which is shown below. The dataset is automtically downloaded into a cache directory `~/.pea_directory/` and then loaded into train and test datasets.\n",
        "\n",
        "The `~` in the file path is shorthand for your home directory.\n",
        " \n",
        "### Dataset Labels\n",
        "We explain the different columns in the dataset and what the labels mean:"
      ]
    },
    {
      "cell_type": "code",
      "metadata": {
        "id": "tR-JrBp2UJ4i",
        "colab_type": "code",
        "outputId": "bdff461d-3bcd-4415-c285-d57b01857e10",
        "colab": {
          "base_uri": "https://localhost:8080/",
          "height": 51
        }
      },
      "source": [
        "train_dataset = pea_classification.dataset_util.train_dataset()\n",
        "test_dataset = pea_classification.dataset_util.test_dataset()\n",
        "\n",
        "num_train_samples, num_train_columns = train_dataset.shape\n",
        "num_test_samples, num_test_columns = test_dataset.shape\n",
        "total_num_samples = num_train_samples + num_test_samples\n",
        "\n",
        "train_percentage = (num_train_samples / total_num_samples) * 100\n",
        "test_percentage = (num_test_samples / total_num_samples) * 100\n",
        "print(f'Size of train: {train_dataset.shape} ({train_percentage:.2f}%)'\n",
        "      f'\\nSize of test: {test_dataset.shape} ({test_percentage:.2f}%)')"
      ],
      "execution_count": 0,
      "outputs": [
        {
          "output_type": "stream",
          "text": [
            "Size of train: (7197, 22) (62.16%)\n",
            "Size of test: (4382, 22) (37.84%)\n"
          ],
          "name": "stdout"
        }
      ]
    },
    {
      "cell_type": "markdown",
      "metadata": {
        "id": "vdEP7Rz3aod3",
        "colab_type": "text"
      },
      "source": [
        "We have 7197 and 4382 training and test samples respectively with 22 columns. The majority of these columns which are denoted as `exp*` contain values that will be used to subset and label our data for experiments that we will come to later in the experiment section. The first 3 columns `DocumentID`, `SentenceID`, and `SentmainID` are used to indetify the samples. Finally the 4 main columns of interest are the following:\n",
        "1. `sentence` -- The sentence text.\n",
        "2. `senttype` -- Whether the sentence is performance and if it contains an attribution.\n",
        "3. `perftone` -- The tone/sentiment of the sentence, on the condition that it is a performance sentence.\n",
        "4. `atttype` -- The attribution type.\n",
        "\n",
        "Defination of performance -- \"The economic outcome of the operating activities during the financial year along with an indication of the\n",
        "quality of the operation outcome\"([El-Haj et al. 2016](https://www.aclweb.org/anthology/L16-1287.pdf))\n",
        "\n"
      ]
    },
    {
      "cell_type": "code",
      "metadata": {
        "id": "wGyzS1pB4BsZ",
        "colab_type": "code",
        "outputId": "44ea193f-d5c5-4908-9af9-23cbaad8d813",
        "colab": {
          "base_uri": "https://localhost:8080/",
          "height": 102
        }
      },
      "source": [
        "train_dataset.columns"
      ],
      "execution_count": 0,
      "outputs": [
        {
          "output_type": "execute_result",
          "data": {
            "text/plain": [
              "Index(['DocumentID', 'SentenceID', 'SentmainID', 'sentence', 'senttype',\n",
              "       'perftone', 'atttype', 'exp1', 'exp2', 'exp3', 'exp4', 'exp5', 'exp6a',\n",
              "       'exp6b', 'exp7a', 'exp7b', 'exp8', 'exp9', 'exp10a', 'exp10b', 'exp11a',\n",
              "       'exp11b'],\n",
              "      dtype='object')"
            ]
          },
          "metadata": {
            "tags": []
          },
          "execution_count": 8
        }
      ]
    },
    {
      "cell_type": "markdown",
      "metadata": {
        "id": "_LeY1EUsa7bE",
        "colab_type": "text"
      },
      "source": [
        "Lets have a look at the different values each of the 4 main columns contain apart from the sentence column:"
      ]
    },
    {
      "cell_type": "code",
      "metadata": {
        "id": "-KS78pqRibcd",
        "colab_type": "code",
        "outputId": "76effe1c-048a-4233-dc67-b9e61593522c",
        "colab": {
          "base_uri": "https://localhost:8080/",
          "height": 85
        }
      },
      "source": [
        "print('Train dataset columns and associated values')\n",
        "for column_name in ['atttype', 'perftone', 'senttype']:\n",
        "  unique_column_values = train_dataset[column_name].unique().tolist()\n",
        "  unique_column_values = sorted([str(value) for value in unique_column_values])\n",
        "  print(f'Column name: {column_name}, unique values: {unique_column_values}')"
      ],
      "execution_count": 0,
      "outputs": [
        {
          "output_type": "stream",
          "text": [
            "Train dataset columns and associated values\n",
            "Column name: atttype, unique values: ['BOTH', 'EXT', 'INT', 'UNSURE', 'nan']\n",
            "Column name: perftone, unique values: ['MIXED', 'NEG', 'NEG_COMP', 'NEU', 'POS', 'POS_COMP']\n",
            "Column name: senttype, unique values: ['attnonperf', 'attperf', 'nonperfnonatt', 'perfnonatt']\n"
          ],
          "name": "stdout"
        }
      ]
    },
    {
      "cell_type": "code",
      "metadata": {
        "id": "-FqdJsBqh1Ca",
        "colab_type": "code",
        "outputId": "29b4d571-8779-4678-e62d-c9b74ff00eb0",
        "colab": {
          "base_uri": "https://localhost:8080/",
          "height": 85
        }
      },
      "source": [
        "print('Test dataset columns and associated values')\n",
        "for column_name in ['atttype', 'perftone', 'senttype']:\n",
        "  unique_column_values = test_dataset[column_name].unique().tolist()\n",
        "  unique_column_values = sorted([str(value) for value in unique_column_values])\n",
        "  print(f'Column name: {column_name}, unique values: {unique_column_values}')"
      ],
      "execution_count": 0,
      "outputs": [
        {
          "output_type": "stream",
          "text": [
            "Test dataset columns and associated values\n",
            "Column name: atttype, unique values: ['BOTH', 'EXT', 'INT', 'UNSURE', 'nan']\n",
            "Column name: perftone, unique values: ['MIXED', 'NEG', 'NEG_COMP', 'NEU', 'NEU_COMP', 'POS', 'POS_COMP']\n",
            "Column name: senttype, unique values: ['attnonperf', 'attperf', 'nonperfnonatt', 'perfnonatt']\n"
          ],
          "name": "stdout"
        }
      ]
    },
    {
      "cell_type": "markdown",
      "metadata": {
        "id": "VUEiikoui9zI",
        "colab_type": "text"
      },
      "source": [
        "The columns have the following values:\n",
        "1. Attribution column (atttype):\n",
        "  * INT -- contains at least one internal attribution.\n",
        "  * EXT -- contains at least one external attribution.\n",
        "  * BOTH -- contains both internal and external attribution.\n",
        "  * UNSURE -- annotators could not decide on the attribution but an attribution does exist.\n",
        "  * nan -- not applicable e.g. no attribution.\n",
        "2. Tone/Sentiment column (perftone):\n",
        "  * POS and POS_COMP -- both positive tone.\n",
        "  * NEG and NEG_COMP -- both negative tone.\n",
        "  * MIXED -- contains both positive and negative tone.\n",
        "  * NEU and NEU_COMP -- neutral tone. (Note: that the test dataset is the only dataset that contains the `NEU_COMP` label)\n",
        "3. Performance column (senttype):\n",
        "  * attnonperf -- contains attribution but not a performance sentence.\n",
        "  * nonperfnonatt -- contains no attribution and is not a performance sentence.\n",
        "  * perfnonatt -- contains no attribution and is a performance sentence.\n",
        "  * attperf -- contains attribution and is a performance sentence.\n",
        "\n",
        "### Sentence Lengths \n",
        "\n",
        "Next we tokenise the sentences using the [English Spacy tokeniser](https://spacy.io/). Then using the tokens of each sentence we measure the sentence length based on the number of tokens in the sentence. Looking at the data can help find any potential problematic samples and helps sainty check the dataset before you go any further in modelling of the data."
      ]
    },
    {
      "cell_type": "code",
      "metadata": {
        "id": "E2HEmaj7TTjk",
        "colab_type": "code",
        "outputId": "8b836178-3990-4584-9fff-d481e565fe7e",
        "colab": {
          "base_uri": "https://localhost:8080/",
          "height": 266
        }
      },
      "source": [
        "from pea_classification.dataset_util import spacy_tokenizer\n",
        "tokeniser = spacy_tokenizer()\n",
        "# Get the sentence length by splitting the sentence into words using spacy\n",
        "interesting_columns = ['sentence', 'senttype', 'perftone', 'atttype', \n",
        "                       'Sentence Lengths']\n",
        "train_and_test_df = pd.concat([train_dataset, test_dataset], 0)\n",
        "\n",
        "sentences = train_and_test_df.loc[:,'sentence'].copy()\n",
        "sentence_lengths = sentences.apply(lambda x: len(tokeniser(x)))\n",
        "train_and_test_df['Sentence Lengths'] = sentence_lengths\n",
        "train_and_test_df.sort_values(by=['Sentence Lengths']).head(7)[interesting_columns]"
      ],
      "execution_count": 0,
      "outputs": [
        {
          "output_type": "execute_result",
          "data": {
            "text/html": [
              "<div>\n",
              "<style scoped>\n",
              "    .dataframe tbody tr th:only-of-type {\n",
              "        vertical-align: middle;\n",
              "    }\n",
              "\n",
              "    .dataframe tbody tr th {\n",
              "        vertical-align: top;\n",
              "    }\n",
              "\n",
              "    .dataframe thead th {\n",
              "        text-align: right;\n",
              "    }\n",
              "</style>\n",
              "<table border=\"1\" class=\"dataframe\">\n",
              "  <thead>\n",
              "    <tr style=\"text-align: right;\">\n",
              "      <th></th>\n",
              "      <th>sentence</th>\n",
              "      <th>senttype</th>\n",
              "      <th>perftone</th>\n",
              "      <th>atttype</th>\n",
              "      <th>Sentence Lengths</th>\n",
              "    </tr>\n",
              "  </thead>\n",
              "  <tbody>\n",
              "    <tr>\n",
              "      <td>5868</td>\n",
              "      <td>Schools.</td>\n",
              "      <td>nonperfnonatt</td>\n",
              "      <td>POS</td>\n",
              "      <td>NaN</td>\n",
              "      <td>2</td>\n",
              "    </tr>\n",
              "    <tr>\n",
              "      <td>7969</td>\n",
              "      <td>Poland .</td>\n",
              "      <td>nonperfnonatt</td>\n",
              "      <td>POS</td>\n",
              "      <td>NaN</td>\n",
              "      <td>2</td>\n",
              "    </tr>\n",
              "    <tr>\n",
              "      <td>9039</td>\n",
              "      <td>on last year.</td>\n",
              "      <td>nonperfnonatt</td>\n",
              "      <td>NEG</td>\n",
              "      <td>NaN</td>\n",
              "      <td>4</td>\n",
              "    </tr>\n",
              "    <tr>\n",
              "      <td>4426</td>\n",
              "      <td>on last year.</td>\n",
              "      <td>nonperfnonatt</td>\n",
              "      <td>NEG</td>\n",
              "      <td>NaN</td>\n",
              "      <td>4</td>\n",
              "    </tr>\n",
              "    <tr>\n",
              "      <td>2526</td>\n",
              "      <td>Growth was wholly organic.</td>\n",
              "      <td>nonperfnonatt</td>\n",
              "      <td>POS</td>\n",
              "      <td>NaN</td>\n",
              "      <td>5</td>\n",
              "    </tr>\n",
              "    <tr>\n",
              "      <td>7839</td>\n",
              "      <td>Graham Holden Chief Executive &lt;</td>\n",
              "      <td>nonperfnonatt</td>\n",
              "      <td>POS</td>\n",
              "      <td>NaN</td>\n",
              "      <td>5</td>\n",
              "    </tr>\n",
              "    <tr>\n",
              "      <td>938</td>\n",
              "      <td>We continue to reduce costs.</td>\n",
              "      <td>perfnonatt</td>\n",
              "      <td>POS</td>\n",
              "      <td>NaN</td>\n",
              "      <td>6</td>\n",
              "    </tr>\n",
              "  </tbody>\n",
              "</table>\n",
              "</div>"
            ],
            "text/plain": [
              "                             sentence       senttype  ... atttype Sentence Lengths\n",
              "5868                         Schools.  nonperfnonatt  ...     NaN                2\n",
              "7969                         Poland .  nonperfnonatt  ...     NaN                2\n",
              "9039                    on last year.  nonperfnonatt  ...     NaN                4\n",
              "4426                    on last year.  nonperfnonatt  ...     NaN                4\n",
              "2526       Growth was wholly organic.  nonperfnonatt  ...     NaN                5\n",
              "7839  Graham Holden Chief Executive <  nonperfnonatt  ...     NaN                5\n",
              "938      We continue to reduce costs.     perfnonatt  ...     NaN                6\n",
              "\n",
              "[7 rows x 5 columns]"
            ]
          },
          "metadata": {
            "tags": []
          },
          "execution_count": 11
        }
      ]
    },
    {
      "cell_type": "markdown",
      "metadata": {
        "id": "eIglAvFdmnhK",
        "colab_type": "text"
      },
      "source": [
        "The shortest sentences generally are not performance sentences which are good as some of them contain no meaning e.g. \"Schools.\", \"Poland .\", etc but short sentences can contain both performance sentence and meaningful tone/sentiment e.g. \"Meat-free sales decreased 1.9%\"\n",
        "\n",
        "Below shows that some of the sentences can be really long!"
      ]
    },
    {
      "cell_type": "code",
      "metadata": {
        "id": "kCPgizbHzYD2",
        "colab_type": "code",
        "outputId": "dd611b5b-d0dc-4225-fffd-fbd870f3ce99",
        "colab": {
          "base_uri": "https://localhost:8080/",
          "height": 142
        }
      },
      "source": [
        "train_and_test_df.sort_values(by=['Sentence Lengths']).tail(3)[interesting_columns]"
      ],
      "execution_count": 0,
      "outputs": [
        {
          "output_type": "execute_result",
          "data": {
            "text/html": [
              "<div>\n",
              "<style scoped>\n",
              "    .dataframe tbody tr th:only-of-type {\n",
              "        vertical-align: middle;\n",
              "    }\n",
              "\n",
              "    .dataframe tbody tr th {\n",
              "        vertical-align: top;\n",
              "    }\n",
              "\n",
              "    .dataframe thead th {\n",
              "        text-align: right;\n",
              "    }\n",
              "</style>\n",
              "<table border=\"1\" class=\"dataframe\">\n",
              "  <thead>\n",
              "    <tr style=\"text-align: right;\">\n",
              "      <th></th>\n",
              "      <th>sentence</th>\n",
              "      <th>senttype</th>\n",
              "      <th>perftone</th>\n",
              "      <th>atttype</th>\n",
              "      <th>Sentence Lengths</th>\n",
              "    </tr>\n",
              "  </thead>\n",
              "  <tbody>\n",
              "    <tr>\n",
              "      <td>11219</td>\n",
              "      <td>Segmental analysis Insurance Services Financia...</td>\n",
              "      <td>nonperfnonatt</td>\n",
              "      <td>POS</td>\n",
              "      <td>NaN</td>\n",
              "      <td>429</td>\n",
              "    </tr>\n",
              "    <tr>\n",
              "      <td>2924</td>\n",
              "      <td>The table below sets forth selected financial ...</td>\n",
              "      <td>nonperfnonatt</td>\n",
              "      <td>POS</td>\n",
              "      <td>NaN</td>\n",
              "      <td>435</td>\n",
              "    </tr>\n",
              "    <tr>\n",
              "      <td>11436</td>\n",
              "      <td>SALES VOLUMES Year ended 31.12.11 Year ended 3...</td>\n",
              "      <td>nonperfnonatt</td>\n",
              "      <td>POS</td>\n",
              "      <td>NaN</td>\n",
              "      <td>759</td>\n",
              "    </tr>\n",
              "  </tbody>\n",
              "</table>\n",
              "</div>"
            ],
            "text/plain": [
              "                                                sentence  ... Sentence Lengths\n",
              "11219  Segmental analysis Insurance Services Financia...  ...              429\n",
              "2924   The table below sets forth selected financial ...  ...              435\n",
              "11436  SALES VOLUMES Year ended 31.12.11 Year ended 3...  ...              759\n",
              "\n",
              "[3 rows x 5 columns]"
            ]
          },
          "metadata": {
            "tags": []
          },
          "execution_count": 12
        }
      ]
    },
    {
      "cell_type": "markdown",
      "metadata": {
        "id": "No6JmdAdnRQr",
        "colab_type": "text"
      },
      "source": [
        "Lastly below we show the summary statistics of sentence lengths and we can see that generally sentences are between 20 and 37 words long."
      ]
    },
    {
      "cell_type": "code",
      "metadata": {
        "id": "GkfdSi7hcpSS",
        "colab_type": "code",
        "outputId": "4c874341-051b-47f0-d338-e29b75a1480e",
        "colab": {
          "base_uri": "https://localhost:8080/",
          "height": 170
        }
      },
      "source": [
        "train_and_test_df['Sentence Lengths'].describe()"
      ],
      "execution_count": 0,
      "outputs": [
        {
          "output_type": "execute_result",
          "data": {
            "text/plain": [
              "count    11579.000000\n",
              "mean        32.321271\n",
              "std         25.157608\n",
              "min          2.000000\n",
              "25%         20.000000\n",
              "50%         28.000000\n",
              "75%         37.000000\n",
              "max        759.000000\n",
              "Name: Sentence Lengths, dtype: float64"
            ]
          },
          "metadata": {
            "tags": []
          },
          "execution_count": 13
        }
      ]
    },
    {
      "cell_type": "markdown",
      "metadata": {
        "id": "wlmprXNDdyDQ",
        "colab_type": "text"
      },
      "source": [
        "We can also compare the training and test data sentence lengths to see the differences:"
      ]
    },
    {
      "cell_type": "code",
      "metadata": {
        "id": "ZyyHi5mmd3oh",
        "colab_type": "code",
        "outputId": "c8e2de16-29ac-462e-d170-427c2ea09564",
        "colab": {
          "base_uri": "https://localhost:8080/",
          "height": 170
        }
      },
      "source": [
        "test_sent_lengths = train_and_test_df.loc[test_dataset.index]['Sentence Lengths']\n",
        "test_sent_lengths_stats = test_sent_lengths.describe()\n",
        "train_sent_lengths = train_and_test_df.loc[train_dataset.index]['Sentence Lengths']\n",
        "train_sent_lengths_stats = train_sent_lengths.describe()\n",
        "test_sent_lengths_stats - train_sent_lengths_stats"
      ],
      "execution_count": 0,
      "outputs": [
        {
          "output_type": "execute_result",
          "data": {
            "text/plain": [
              "count   -2815.000000\n",
              "mean        0.688482\n",
              "std         2.693455\n",
              "min         0.000000\n",
              "25%         1.000000\n",
              "50%         0.000000\n",
              "75%         1.000000\n",
              "max       324.000000\n",
              "Name: Sentence Lengths, dtype: float64"
            ]
          },
          "metadata": {
            "tags": []
          },
          "execution_count": 14
        }
      ]
    },
    {
      "cell_type": "markdown",
      "metadata": {
        "id": "_ZGIXV1i7S2f",
        "colab_type": "text"
      },
      "source": [
        "From the above we can see from the `count` the test dataset is smaller, which we already know. The mean sentence length is slightly longer by `0.68` and the `standard deviation` is larger by `2.8` indicating that the distribution of sentence lengths in the test is more spread out. Lastly the test data has a much larger largest text indiciated by the `max` value of `324`.\n",
        "\n",
        "We can better visualise these statistics using a historgram:"
      ]
    },
    {
      "cell_type": "code",
      "metadata": {
        "id": "fKvqNFQQ8o_D",
        "colab_type": "code",
        "outputId": "ceb90592-e248-4b7a-c4b0-1fa23d0107f2",
        "colab": {
          "base_uri": "https://localhost:8080/",
          "height": 341
        }
      },
      "source": [
        "fig, ax = plt.subplots(1,1,figsize=(10,5))\n",
        "ax = sns.distplot(train_sent_lengths, kde_kws={'label': 'Train'},ax=ax)\n",
        "ax = sns.distplot(test_sent_lengths, kde_kws={'label': 'Test'}, ax=ax)"
      ],
      "execution_count": 0,
      "outputs": [
        {
          "output_type": "display_data",
          "data": {
            "image/png": "[encoded data removed]",
            "text/plain": [
              "<Figure size 720x360 with 1 Axes>"
            ]
          },
          "metadata": {
            "tags": []
          }
        }
      ]
    },
    {
      "cell_type": "markdown",
      "metadata": {
        "id": "hUMVs5Hb_5nc",
        "colab_type": "text"
      },
      "source": [
        "As we can see the histogram has a very long tail, which is rather informative for the graph and makes it difficult to visulaise. Therefore we are only going to visulaise the sentence lengths up to length 175 to get a better understanding of the distribution between the training and test splits:"
      ]
    },
    {
      "cell_type": "code",
      "metadata": {
        "id": "Yvu1VCcJARIy",
        "colab_type": "code",
        "outputId": "8c8c4b2a-6f4d-443d-f52f-6460aaf0f0b3",
        "colab": {
          "base_uri": "https://localhost:8080/",
          "height": 341
        }
      },
      "source": [
        "fig, ax = plt.subplots(1,1,figsize=(10,5))\n",
        "ax = sns.distplot(train_sent_lengths[train_sent_lengths < 176], kde_kws={'label': 'Train'},ax=ax)\n",
        "ax = sns.distplot(test_sent_lengths[test_sent_lengths < 176], kde_kws={'label': 'Test'}, ax=ax)"
      ],
      "execution_count": 0,
      "outputs": [
        {
          "output_type": "display_data",
          "data": {
            "image/png": "[encoded data removed]",
            "text/plain": [
              "<Figure size 720x360 with 1 Axes>"
            ]
          },
          "metadata": {
            "tags": []
          }
        }
      ]
    },
    {
      "cell_type": "markdown",
      "metadata": {
        "id": "oLveJ4AwApAp",
        "colab_type": "text"
      },
      "source": [
        "From this graph we can better see the two distributions. It can be seen that the setnence lengths between train and test splits do not vary much. Furthermore if you look at the lines (which is a smoothed approximation of the data based on a normal distribution), the two lines are very close to each other indiciating that the setence lengths do not differ much between the splits.\n",
        "\n",
        "This deep dive into the sentence lengths is to demonstrate a way of visulising some of the data in the datasets.\n",
        "\n",
        "### Tokenisation\n",
        "\n",
        "We now move on to creating tokenised sentences in the train and test splits. When exploring the sentence lengths we never actually added the tokenised sentences to the dataset that we are going to use to model. Below we shall tokenise the sentences and then join the tokens back together using whitespace and add them to the dataset.\n",
        "\n",
        "The reason for joining the tokens back together using whitespace is so that the models in the future only have to perform white space splitting rather than tokenising using Spacy to get the spacy tokens. This is more of an efficency saving."
      ]
    },
    {
      "cell_type": "code",
      "metadata": {
        "id": "pv0hkz980MQB",
        "colab_type": "code",
        "colab": {}
      },
      "source": [
        "train_dataset['tokeniser_sentences'] = train_dataset.loc[:, 'sentence'].apply(lambda x: ' '.join(tokeniser(x)))\n",
        "test_dataset['tokeniser_sentences'] = test_dataset.loc[:, 'sentence'].apply(lambda x: ' '.join(tokeniser(x)))"
      ],
      "execution_count": 0,
      "outputs": []
    },
    {
      "cell_type": "markdown",
      "metadata": {
        "id": "FBmvOOKmFBnF",
        "colab_type": "text"
      },
      "source": [
        "Below are example of the tokenised sentences:"
      ]
    },
    {
      "cell_type": "code",
      "metadata": {
        "id": "iqMVA0RS0hIl",
        "colab_type": "code",
        "outputId": "dea3ce72-badc-409d-f4e2-cc1455ff854b",
        "colab": {
          "base_uri": "https://localhost:8080/",
          "height": 204
        }
      },
      "source": [
        "train_dataset['tokeniser_sentences'].head(10)"
      ],
      "execution_count": 0,
      "outputs": [
        {
          "output_type": "execute_result",
          "data": {
            "text/plain": [
              "0    Good performances across most of the Group mea...\n",
              "1    Strong overall growth in the earnings of our P...\n",
              "2    Our balance sheet remains strong with net debt...\n",
              "3    These have increased the effectiveness of our ...\n",
              "4    Earnings growth in our Private Equity portfoli...\n",
              "5    However , there have been elements of this por...\n",
              "6    Together , they have helped to broaden the exp...\n",
              "7    Lower operating costs and increased assets und...\n",
              "8    I have also been determined to put 3i back on ...\n",
              "9    Performance Our total return for the year to 3...\n",
              "Name: tokeniser_sentences, dtype: object"
            ]
          },
          "metadata": {
            "tags": []
          },
          "execution_count": 18
        }
      ]
    },
    {
      "cell_type": "markdown",
      "metadata": {
        "id": "D8qTLCUvFIk_",
        "colab_type": "text"
      },
      "source": [
        "And the original sentences, some of the main differences between the two are the commas in sentence 5 and 6. More differences can be seen if you look at the whole sentences rather than the extracts shown here."
      ]
    },
    {
      "cell_type": "code",
      "metadata": {
        "id": "cksSVVvr0ku1",
        "colab_type": "code",
        "outputId": "513cb880-c9b9-4627-ff8b-8d7dd0946a90",
        "colab": {
          "base_uri": "https://localhost:8080/",
          "height": 204
        }
      },
      "source": [
        "train_dataset['sentence'].head(10)"
      ],
      "execution_count": 0,
      "outputs": [
        {
          "output_type": "execute_result",
          "data": {
            "text/plain": [
              "0    Good performances across most of the Group mea...\n",
              "1    Strong overall growth in the earnings of our P...\n",
              "2    Our balance sheet remains strong with net debt...\n",
              "3    These have increased the effectiveness of our ...\n",
              "4    Earnings growth in our Private Equity portfoli...\n",
              "5    However, there have been elements of this port...\n",
              "6    Together, they have helped to broaden the expe...\n",
              "7    Lower operating costs and increased assets und...\n",
              "8    I have also been determined to put 3i back on ...\n",
              "9    Performance Our total return for the year to 3...\n",
              "Name: sentence, dtype: object"
            ]
          },
          "metadata": {
            "tags": []
          },
          "execution_count": 19
        }
      ]
    },
    {
      "cell_type": "markdown",
      "metadata": {
        "id": "8XWUz69HFKyF",
        "colab_type": "text"
      },
      "source": [
        "And below we can see the dataset now has a new column `tokeniser_sentences`"
      ]
    },
    {
      "cell_type": "code",
      "metadata": {
        "id": "-r-v3QcT1sP0",
        "colab_type": "code",
        "outputId": "0c5e9585-c995-4051-e3f7-18b9299c6f2b",
        "colab": {
          "base_uri": "https://localhost:8080/",
          "height": 102
        }
      },
      "source": [
        "test_dataset.columns"
      ],
      "execution_count": 0,
      "outputs": [
        {
          "output_type": "execute_result",
          "data": {
            "text/plain": [
              "Index(['DocumentID', 'SentenceID', 'SentmainID', 'sentence', 'senttype',\n",
              "       'perftone', 'atttype', 'exp1', 'exp2', 'exp3', 'exp4', 'exp5', 'exp6a',\n",
              "       'exp6b', 'exp7a', 'exp7b', 'exp8', 'exp9', 'exp10a', 'exp10b', 'exp11a',\n",
              "       'exp11b', 'tokeniser_sentences'],\n",
              "      dtype='object')"
            ]
          },
          "metadata": {
            "tags": []
          },
          "execution_count": 20
        }
      ]
    },
    {
      "cell_type": "markdown",
      "metadata": {
        "id": "1m16KOeWnwzL",
        "colab_type": "text"
      },
      "source": [
        "## Experiments\n",
        "Now that we have given a quick overview of the dataset we are going to move into the different experiments we are going to conduct. These experiments can be split into 3 main sections identifying: \n",
        "1. Tone/Sentiment\n",
        "2. Attribution\n",
        "3. Performance.\n",
        "\n",
        "NOTE: Each of the experiments we perform here relate to the `exp*` columns within the data. This does not mean you cannot create your own experiments such as predicting Positive, Neutral, and Negative sentiment/tone. All the experiments conducted here are binary classification problems.\n",
        "\n",
        "### Tone/Sentiment\n",
        "1. Can we predict positive or negative sentiment given the sentence is a performance sentence? (labels 1=positive, 2=negative, column name = `exp1`)\n",
        "2. Same as `exp1` but conditioned on the sentence coming from a `no attribution` sentence. (labels 1=positive, 2=negative, column name = `exp2`)\n",
        "\n",
        "### Attribution\n",
        "1. Can we predict if the sentence is an attribution sentence? (labels 1=attribution, 2=no attribution, column name = `exp3`)\n",
        "2. Same as `exp3` but conditioned on the sentence being a `performance` sentence. (labels 1=attribution, 2=no-attribution, column name = `exp4`)\n",
        "3. Predict if the sentence is an `Internal` or `External` sentence conditioned on the sentence being an `attribution` sentence. (labels 1=Internal, 2=External, column name =`exp5`)\n",
        "4. Can we predict if the sentence is an `attribution` sentence if the `attribution` sentences are of all `Internal` type. (lables 1=attribution, 2=no-attribution, column name =`exp6a`)\n",
        "5. Can we predict if the sentence is an `attribution` sentence if the `attribution` sentences are of all `External` type. (lables 1=attribution, 2=no-attribution, column name =`exp6b`)\n",
        "\n",
        "Note: That column names `exp7a` and `exp7b` are not used because they are the same experiment as `exp6a` and `exp6b` respectively.\n",
        "\n",
        "### Performance\n",
        "1. Can we predict performance from non-performance sentences? (labels 1=performance, 2=non-performance, column name=`exp8`)\n",
        "2. Same as `exp8` but the sentences do not contain any attribution. (labels 1=performance, 2=non-performance, column name=`exp9`)\n",
        "3. Can we predict performance from non-performance given that all of the performance sentence are `positive` in tone/sentiment? (labels 1=performance, 2=non-performance, column name=`exp10a`)\n",
        "4. Can we predict performance from non-performance given that all of the performance sentence are `negative` in tone/sentiment? (labels 1=performance, 2=non-performance, column name=`exp10b`)\n",
        "\n",
        "Note: That column names `exp11a` and `exp11b` are not used because they are the same experiment as `exp10a` and `exp10b` respectively.\n",
        "\n",
        "As you can see all of these experiments are binary classification tasks. \n",
        "\n",
        "### Data Distribution \n",
        "\n",
        "One of the main problems with all of these experiments is the data distribution. In alot of these experiments the data is highly skewed to one of the classes. Below we show this, where by the Y-axis represents the percentage of samples that are in the associated class for each experiment:\n",
        "\n",
        "#### Training split"
      ]
    },
    {
      "cell_type": "code",
      "metadata": {
        "id": "CJAWKDP7bXNt",
        "colab_type": "code",
        "outputId": "f7cd9d2b-309e-41c8-9f33-ba80e51b4645",
        "colab": {
          "base_uri": "https://localhost:8080/",
          "height": 361
        }
      },
      "source": [
        "import re\n",
        "\n",
        "experiment_ids = ['exp1', 'exp2', 'exp3', 'exp4', 'exp5', 'exp6a', 'exp6b', \n",
        "                  'exp8', 'exp9', 'exp10a', 'exp10b']\n",
        "df_experiment_ids = []\n",
        "# this is either one or two\n",
        "label_names = []\n",
        "# the number of times the label occurs\n",
        "label_counts = []\n",
        "# the percentage label occurs for the experiment\n",
        "label_percentages = []\n",
        "# Whether it is the training or test split\n",
        "train_or_test = []\n",
        "for experiment_id in experiment_ids:\n",
        "  for data_name, data in [('Train', train_dataset), ('Test', test_dataset)]:\n",
        "    # Only using this function as it is the esiest way to get experiment specific \n",
        "    # data\n",
        "    _, data_labels = pea_classification.dataset_util.get_experiment_data(data, experiment_id, 'sentence')\n",
        "    possible_data_labels = set([1,2])\n",
        "    assert possible_data_labels == set(np.unique(data_labels))\n",
        "    total_number_labels = data_labels.shape[0]\n",
        "    for label_value in [1, 2]:\n",
        "      label_count = (data_labels==label_value).sum()\n",
        "      assert label_count > 0\n",
        "      df_experiment_ids.append(re.search(r'\\d+.*', experiment_id)[0])\n",
        "      label_names.append(str(label_value))\n",
        "      label_counts.append(label_count)\n",
        "      label_percentages.append(100 * (label_count / total_number_labels))\n",
        "      train_or_test.append(data_name)\n",
        "dataset_df = pd.DataFrame({'Exp ID': df_experiment_ids, \n",
        "                           'Label': label_names, \n",
        "                           'Samples': label_counts,\n",
        "                           'Sample %': label_percentages, \n",
        "                           'Dataset': train_or_test})\n",
        "\n",
        "train_sample_df = dataset_df[dataset_df['Dataset']=='Train']\n",
        "train_sample_ax = sns.catplot(data=train_sample_df, col='Exp ID', x='Label', \n",
        "                              y='Sample %', kind='bar', height=5, aspect=.3)\n",
        "_ = train_sample_ax.set_titles(\"{col_name}\")"
      ],
      "execution_count": 0,
      "outputs": [
        {
          "output_type": "display_data",
          "data": {
            "image/png": "[encoded data removed]",
            "text/plain": [
              "<Figure size 1188x360 with 11 Axes>"
            ]
          },
          "metadata": {
            "tags": []
          }
        }
      ]
    },
    {
      "cell_type": "markdown",
      "metadata": {
        "id": "yC3n-2Xzhhbs",
        "colab_type": "text"
      },
      "source": [
        "#### Test split"
      ]
    },
    {
      "cell_type": "code",
      "metadata": {
        "id": "gJV2YYYgi4O_",
        "colab_type": "code",
        "outputId": "34f7640c-2766-4e6e-e9d9-a50560e5500b",
        "colab": {
          "base_uri": "https://localhost:8080/",
          "height": 361
        }
      },
      "source": [
        "test_sample_df = dataset_df[dataset_df['Dataset']=='Test']\n",
        "test_sample_ax = sns.catplot(data=test_sample_df, col='Exp ID', x='Label', \n",
        "                             y='Sample %', kind='bar', height=5, aspect=.3)\n",
        "_ = test_sample_ax.set_titles(\"{col_name}\")"
      ],
      "execution_count": 0,
      "outputs": [
        {
          "output_type": "display_data",
          "data": {
            "image/png": "[encoded data removed]",
            "text/plain": [
              "<Figure size 1188x360 with 11 Axes>"
            ]
          },
          "metadata": {
            "tags": []
          }
        }
      ]
    },
    {
      "cell_type": "markdown",
      "metadata": {
        "id": "ruM1NFAZhjJd",
        "colab_type": "text"
      },
      "source": [
        "From both of the splits we can see that experiment `6a` and `6b` have the worse data balance where by the 2nd class (no attribution) is the largest class by far.\n",
        "\n",
        "#### Difference between the two splits\n",
        "\n",
        "Below we show what the data distribution difference between the test and the training split. This is to see if there are any major differences in class label sizes between the splits. From what can be seen below this is not the case."
      ]
    },
    {
      "cell_type": "code",
      "metadata": {
        "id": "FZ3a16bzjE32",
        "colab_type": "code",
        "outputId": "cebae9ad-82e9-4023-f40a-cb33671406ae",
        "colab": {
          "base_uri": "https://localhost:8080/",
          "height": 361
        }
      },
      "source": [
        "test_sample_index_df = test_sample_df.set_index(['Exp ID', 'Label'])\n",
        "train_sample_index_df = train_sample_df.set_index(['Exp ID', 'Label'])\n",
        "diff_sample_df = (test_sample_index_df['Sample %'] - \n",
        "                  train_sample_index_df['Sample %']).reset_index()\n",
        "diff_sample_ax = sns.catplot(data=diff_sample_df, col='Exp ID', x='Label', \n",
        "                             y='Sample %', kind='bar', height=5, aspect=.3)\n",
        "_ = diff_sample_ax.set_titles(\"{col_name}\")"
      ],
      "execution_count": 0,
      "outputs": [
        {
          "output_type": "display_data",
          "data": {
            "image/png": "[encoded data removed]",
            "text/plain": [
              "<Figure size 1188x360 with 11 Axes>"
            ]
          },
          "metadata": {
            "tags": []
          }
        }
      ]
    },
    {
      "cell_type": "markdown",
      "metadata": {
        "id": "AsAm6SzWjV4n",
        "colab_type": "text"
      },
      "source": [
        "#### Example of showing the raw sample count\n",
        "\n",
        "If you want to see the number of samples in each class for each experiment below is an example of how to visualise this for the training split, of which in comparison to the percentages it shows which experiment contains more or less data/samples."
      ]
    },
    {
      "cell_type": "code",
      "metadata": {
        "id": "xXQMsfWZjig6",
        "colab_type": "code",
        "outputId": "43524922-9575-4b19-ea2b-79cbe74cb8d1",
        "colab": {
          "base_uri": "https://localhost:8080/",
          "height": 361
        }
      },
      "source": [
        "train_sample_ax = sns.catplot(data=train_sample_df, col='Exp ID', x='Label', \n",
        "                              y='Samples', kind='bar', height=5, aspect=.3)\n",
        "_ = train_sample_ax.set_titles(\"{col_name}\")"
      ],
      "execution_count": 0,
      "outputs": [
        {
          "output_type": "display_data",
          "data": {
            "image/png": "[encoded data removed]",
            "text/plain": [
              "<Figure size 1188x360 with 11 Axes>"
            ]
          },
          "metadata": {
            "tags": []
          }
        }
      ]
    },
    {
      "cell_type": "markdown",
      "metadata": {
        "id": "XSd7AcHk_8ws",
        "colab_type": "text"
      },
      "source": [
        "Due to the majority of the experiments containing large data in-balances, we will perform each experiment **3** times:\n",
        "1. `un_balanced` -- using the original training data.\n",
        "2. `over_sampled` -- randomly generating more training data for the label with the fewest examples from the exisiting dataset until we have an equal amount of training examples for both labels.\n",
        "3. `under_sampled` -- same as over_sampled but here we randomly remove data from the label with the most examples until we have an equal amount of training examples for both labels.\n",
        "\n",
        "## Training a Bag Of Words (BOW) model\n",
        "\n",
        "As we have now described the experiments that can be conducted, here we are going to describe the BOW models we used in all of these experiments and briefly how to apply them (for the full script on how we trained all models on all experiments see this [python script](https://github.com/apmoore1/pea_classification/blob/master/run_experiments.py) and the end part of the README.).\n",
        "\n",
        "The BOW models had the following 6 general steps from raw text to a classification:\n",
        "1. Tokenise the text using [Spacy](https://spacy.io/) English tokeniser and then lower case them. NOTE: all of the models here assume the text has been pre-tokenised and all the classifier pipeline has to do is split on whitespace.\n",
        "2. Extract Bag Of Word features, either uni-grams or uni-grams and bi-grams, from the tokens of the text.\n",
        "3. Put the BOW features through a [TF-IDF transformer](https://scikit-learn.org/stable/modules/generated/sklearn.feature_extraction.text.TfidfTransformer.html#sklearn.feature_extraction.text.TfidfTransformer).\n",
        "4. Feature selection using [chi-squared statistic](https://scikit-learn.org/stable/modules/generated/sklearn.feature_selection.chi2.html).\n",
        "5. Scaling the features.\n",
        "6. The features are then input to a classifier e.g. Random Forest.\n",
        "\n",
        "The classifiers we have used are the following:\n",
        "1. [Multinomial Naive Bayes](https://scikit-learn.org/stable/modules/generated/sklearn.naive_bayes.MultinomialNB.html#sklearn.naive_bayes.MultinomialNB) (MNB)\n",
        "2. [Complement Naive Bayes](https://scikit-learn.org/stable/modules/generated/sklearn.naive_bayes.ComplementNB.html#sklearn.naive_bayes.ComplementNB) (CNB)\n",
        "3. [Random Forests](https://scikit-learn.org/stable/modules/generated/sklearn.ensemble.RandomForestClassifier.html#sklearn.ensemble.RandomForestClassifier) (RF)\n",
        "4. [Linear Support Vector Machine (SVM)](https://scikit-learn.org/stable/modules/generated/sklearn.svm.LinearSVC.html#sklearn.svm.LinearSVC)\n",
        "5. [Multi-layer Perceptron (MLP) Neural Network (NN)](https://scikit-learn.org/stable/modules/generated/sklearn.neural_network.MLPClassifier.html)\n",
        "\n",
        "Below we show an example of how to train a Linear SVM using all of the 6 steps stated above using only the data provided therefore no under or over sampling is applied here:\n"
      ]
    },
    {
      "cell_type": "code",
      "metadata": {
        "id": "rRiepi6P_8R0",
        "colab_type": "code",
        "outputId": "90a7379d-93c6-4d02-e49f-357f81a1eb38",
        "colab": {
          "base_uri": "https://localhost:8080/",
          "height": 272
        }
      },
      "source": [
        "from pea_classification.classifiers import classifier_pipeline, LinearSVC\n",
        "bow_pipeline = classifier_pipeline(oversample=False, undersample=False, \n",
        "                                   classifier=LinearSVC())\n",
        "bow_pipeline.steps"
      ],
      "execution_count": 0,
      "outputs": [
        {
          "output_type": "execute_result",
          "data": {
            "text/plain": [
              "[('vect', CountVectorizer(analyzer='word', binary=False, decode_error='strict',\n",
              "                  dtype=<class 'numpy.int64'>, encoding='utf-8', input='content',\n",
              "                  lowercase=True, max_df=1.0, max_features=None, min_df=1,\n",
              "                  ngram_range=(1, 2), preprocessor=None, stop_words=None,\n",
              "                  strip_accents=None, token_pattern='(?u)\\\\b\\\\w\\\\w+\\\\b',\n",
              "                  tokenizer=<method 'split' of 'str' objects>, vocabulary=None)),\n",
              " ('tfidf',\n",
              "  TfidfTransformer(norm=None, smooth_idf=True, sublinear_tf=False, use_idf=True)),\n",
              " ('feature_selector',\n",
              "  SelectKBest(k=10, score_func=<function chi2 at 0x7f51197d90d0>)),\n",
              " ('scale', MaxAbsScaler(copy=True)),\n",
              " ('clf', LinearSVC(C=1.0, class_weight=None, dual=True, fit_intercept=True,\n",
              "            intercept_scaling=1, loss='squared_hinge', max_iter=1000,\n",
              "            multi_class='ovr', penalty='l2', random_state=None, tol=0.0001,\n",
              "            verbose=0))]"
            ]
          },
          "metadata": {
            "tags": []
          },
          "execution_count": 26
        }
      ]
    },
    {
      "cell_type": "markdown",
      "metadata": {
        "id": "6JHIKfrEEcSa",
        "colab_type": "text"
      },
      "source": [
        "As shown above we have just created a pipeline that has all of the 6 steps stated above:\n",
        "1. First it uses a [CountVectorizer](https://scikit-learn.org/stable/modules/generated/sklearn.feature_extraction.text.CountVectorizer.html#sklearn.feature_extraction.text.CountVectorizer) to tokenise and then extract out **uni-gram and bi-gram features**\n",
        "2. Then it puts it through a [TF-IDF Transformer](https://scikit-learn.org/stable/modules/generated/sklearn.feature_extraction.text.TfidfTransformer.html#sklearn.feature_extraction.text.TfidfTransformer) to get the TF-IDF transformed features.\n",
        "3. We select the top *k=10* features using [chi-squared statistic](https://scikit-learn.org/stable/modules/generated/sklearn.feature_selection.chi2.html).\n",
        "4. Then scale these features using [MaxAbsScaler](https://scikit-learn.org/stable/modules/generated/sklearn.preprocessing.MaxAbsScaler.html), which ensures that the features are between 0-1 for each feature. This is ensured by dividing each feature by its features largest value.\n",
        "5. Then we use a [Linear SVM](https://scikit-learn.org/stable/modules/generated/sklearn.svm.LinearSVC.html#sklearn.svm.LinearSVC) to classify.\n",
        "\n",
        "NOTE: The [CountVectorizer](https://scikit-learn.org/stable/modules/generated/sklearn.feature_extraction.text.CountVectorizer.html#sklearn.feature_extraction.text.CountVectorizer) we use here is a bit custom in the sense that it only lower cases the words and splits on whitespace, but it does not perform tokenisation using Spacy. To get the Spacy tokenisation into this process we first tokenise the sentences and then re-join the sentences using whitespace.\n",
        "\n",
        "Now that we have our pipeline that performs all of these 6 steps we need to train the classifier, to do so we have chosen the attribution/no-attribution experiment of `exp3`. First we get our training data:"
      ]
    },
    {
      "cell_type": "code",
      "metadata": {
        "id": "-5ZzVO5_IuuX",
        "colab_type": "code",
        "outputId": "6edee6d7-406f-4056-b690-4d28d9a58ad3",
        "colab": {
          "base_uri": "https://localhost:8080/",
          "height": 51
        }
      },
      "source": [
        "exp1_label_mapper = {1: 'Attribution', 2: 'No-Attribution'}\n",
        "train_sentences, train_labels = pea_classification.dataset_util.get_experiment_data(train_dataset, 'exp3', 'sentence')\n",
        "print(f'Sentence 1: {train_sentences[0]}')\n",
        "print(f'Label: {train_labels[0]}, {exp1_label_mapper[train_labels[0]]}')"
      ],
      "execution_count": 0,
      "outputs": [
        {
          "output_type": "stream",
          "text": [
            "Sentence 1: Good performances across most of the Group meant that we were able to deliver a total return of 10.6%, despite a significant value reduction in one of our largest investments.\n",
            "Label: 2, No-Attribution\n"
          ],
          "name": "stdout"
        }
      ]
    },
    {
      "cell_type": "markdown",
      "metadata": {
        "id": "ZOwjhAACKbZL",
        "colab_type": "text"
      },
      "source": [
        "As we can see the sentence is contains no attribution but it has not been tokenised by Spacy yet which is what we will do now:"
      ]
    },
    {
      "cell_type": "code",
      "metadata": {
        "id": "8lh_neG7Khio",
        "colab_type": "code",
        "outputId": "06b60d2b-6bd8-4823-d322-85a619effd48",
        "colab": {
          "base_uri": "https://localhost:8080/",
          "height": 51
        }
      },
      "source": [
        "from pea_classification.dataset_util import spacy_tokenizer\n",
        "tokeniser = spacy_tokenizer()\n",
        "\n",
        "train_tok_sentences = [' '.join(tokeniser(sentence)) for sentence in train_sentences]\n",
        "print(f'Tokenised sentence 1:\\n{train_tok_sentences[0]}')"
      ],
      "execution_count": 0,
      "outputs": [
        {
          "output_type": "stream",
          "text": [
            "Tokenised sentence 1:\n",
            "Good performances across most of the Group meant that we were able to deliver a total return of 10.6 % , despite a significant value reduction in one of our largest investments .\n"
          ],
          "name": "stdout"
        }
      ]
    },
    {
      "cell_type": "markdown",
      "metadata": {
        "id": "X40_UUYFK3Er",
        "colab_type": "text"
      },
      "source": [
        "As we can see by comparing before and after the sentence is tokenised and has been re-joined to create a whole sentence but with the tokens easily identifiable via whitespace. Good example to see that tokenisation has been performed is around commas e.g. `return of 10.6 % , despite` in the sentence above.\n",
        "\n",
        "Now that the sentence have been tokenised and re-joined we can train the classifier using the 6 step pipeline above:"
      ]
    },
    {
      "cell_type": "code",
      "metadata": {
        "id": "UjPky8kFLQuq",
        "colab_type": "code",
        "colab": {}
      },
      "source": [
        "%%capture\n",
        "bow_pipeline.fit(train_tok_sentences, train_labels)"
      ],
      "execution_count": 0,
      "outputs": []
    },
    {
      "cell_type": "markdown",
      "metadata": {
        "id": "5wlkRLzFLdAX",
        "colab_type": "text"
      },
      "source": [
        "We have now trained our classifier lets see it's performance on the test set using accuracy as the metric:"
      ]
    },
    {
      "cell_type": "code",
      "metadata": {
        "id": "pgSHALuRb8i6",
        "colab_type": "code",
        "outputId": "219faa51-8084-4d83-9589-28f5f0df7ee8",
        "colab": {
          "base_uri": "https://localhost:8080/",
          "height": 34
        }
      },
      "source": [
        "test_sentences, test_labels = pea_classification.dataset_util.get_experiment_data(test_dataset, 'exp3', 'sentence')\n",
        "test_tok_sentences = [' '.join(tokeniser(sentence)) for sentence in test_sentences]\n",
        "round(bow_pipeline.score(test_tok_sentences, test_labels) * 100, 2)"
      ],
      "execution_count": 0,
      "outputs": [
        {
          "output_type": "execute_result",
          "data": {
            "text/plain": [
              "79.51"
            ]
          },
          "metadata": {
            "tags": []
          },
          "execution_count": 30
        }
      ]
    },
    {
      "cell_type": "markdown",
      "metadata": {
        "id": "Fo-ay-QdcOWA",
        "colab_type": "text"
      },
      "source": [
        "### Looking at more than the accuracy scores, individual label F1 scores\n",
        "We can see that we get an Accuracy of 79.51%. However we can see that from the data distribution graphs above that the `exp3` data is very in-balanced. Lets see how well it performs using F1 metrics for both of the labels:"
      ]
    },
    {
      "cell_type": "code",
      "metadata": {
        "id": "aDjvOqG7dT3I",
        "colab_type": "code",
        "outputId": "2d0e3c54-1271-466e-b518-f8f65884f376",
        "colab": {
          "base_uri": "https://localhost:8080/",
          "height": 68
        }
      },
      "source": [
        "from pea_classification.classifier_util import predict_score\n",
        "more_test_scores = predict_score(bow_pipeline, test_tok_sentences, test_labels)\n",
        "# converting scores to percentages and rounding to 2 decimal places\n",
        "more_test_scores = {score_name: round(score_value * 100, 2) \n",
        "                    for score_name, score_value in more_test_scores.items()}\n",
        "print(f\"Accuracy {more_test_scores['Accuracy']}\")\n",
        "print(f\"F1 attribution label {more_test_scores['F1 Class 1']}\")\n",
        "print(f\"F1 no-attribution label {more_test_scores['F1 Class 2']}\")"
      ],
      "execution_count": 0,
      "outputs": [
        {
          "output_type": "stream",
          "text": [
            "Accuracy 79.51\n",
            "F1 attribution label 26.87\n",
            "F1 no-attribution label 88.08\n"
          ],
          "name": "stdout"
        }
      ]
    },
    {
      "cell_type": "markdown",
      "metadata": {
        "id": "Jc4o3L4cqka3",
        "colab_type": "text"
      },
      "source": [
        "As we can see from above the classifier may have a really good accuracy score, but it is actually really bad at predicting the attribution class (class 1), which is the least represented class. In practice we want a classifier that can predict both classes really well not just the one.\n",
        "\n",
        "A better overall metric would therefore be the `Macro F1` score which takes the average of the two F1 scores from above:"
      ]
    },
    {
      "cell_type": "code",
      "metadata": {
        "id": "hM0zl9u0q6j4",
        "colab_type": "code",
        "outputId": "f0f52e6b-8063-4860-d9b7-64334fae93bb",
        "colab": {
          "base_uri": "https://localhost:8080/",
          "height": 34
        }
      },
      "source": [
        "print(f\"Macro F1 {more_test_scores['Macro F1']}\")"
      ],
      "execution_count": 0,
      "outputs": [
        {
          "output_type": "stream",
          "text": [
            "Macro F1 57.48\n"
          ],
          "name": "stdout"
        }
      ]
    },
    {
      "cell_type": "markdown",
      "metadata": {
        "id": "rxsZaxLSeJ8b",
        "colab_type": "text"
      },
      "source": [
        "### Custom classifiers\n",
        "We have now introduced you to performing one experiment with one classifier but we can easily now compare two classifier while keeping the features/pre-processing the same.\n",
        "\n",
        "We have already stated the 5 [SKLearn](https://scikit-learn.org/stable/index.html) classifiers that we have used in all of experiments above, all of which we have used with default settings but for reproducability reasons can be accessed within our python code [here](https://github.com/apmoore1/pea_classification/blob/master/pea_classification/classifiers.py). \n",
        "\n",
        "However you might want to use a custom or another different standard SKLearn classifier thus this is what we shall show you how to do now using the same experiment as before:"
      ]
    },
    {
      "cell_type": "code",
      "metadata": {
        "id": "YQGnVDx-2SaC",
        "colab_type": "code",
        "outputId": "b6ec3279-92b2-4cea-873b-ebd6660f275c",
        "colab": {
          "base_uri": "https://localhost:8080/",
          "height": 102
        }
      },
      "source": [
        "import math\n",
        "from sklearn.neighbors import KNeighborsClassifier\n",
        "\n",
        "# This has come from the suggestion in this blog post:\n",
        "# https://towardsdatascience.com/a-simple-introduction-to-k-nearest-neighbors-algorithm-b3519ed98e\n",
        "# but you can choose any interger value for number of neighbors used\n",
        "number_data_points = len(train_sentences)\n",
        "n_neighbors = int(math.sqrt(number_data_points))\n",
        "print(f'Number of neighbors used {n_neighbors}')\n",
        "\n",
        "custom_clf_pipeline = classifier_pipeline(oversample=False, undersample=False, \n",
        "                                          classifier=KNeighborsClassifier(n_neighbors=n_neighbors))\n",
        "custom_clf_pipeline.fit(train_tok_sentences, train_labels)\n",
        "custom_test_scores = predict_score(custom_clf_pipeline, test_tok_sentences, test_labels)\n",
        "\n",
        "custom_test_scores = {score_name: round(score_value * 100, 2) \n",
        "                      for score_name, score_value in custom_test_scores.items()}\n",
        "print(f\"Accuracy {custom_test_scores['Accuracy']}\")\n",
        "print(f\"Macro F1 {custom_test_scores['Macro F1']}\")\n",
        "print(f\"F1 attribution label {custom_test_scores['F1 Class 1']}\")\n",
        "print(f\"F1 no-attribution label {custom_test_scores['F1 Class 2']}\")"
      ],
      "execution_count": 0,
      "outputs": [
        {
          "output_type": "stream",
          "text": [
            "Number of neighbors used 84\n",
            "Accuracy 79.16\n",
            "Macro F1 61.61\n",
            "F1 attribution label 35.66\n",
            "F1 no-attribution label 87.57\n"
          ],
          "name": "stdout"
        }
      ]
    },
    {
      "cell_type": "markdown",
      "metadata": {
        "id": "hJQ_xe2rkWUV",
        "colab_type": "text"
      },
      "source": [
        "Above we have trained and tested a custom classifier that has come from the SKLearn library, which is a [KNN](https://scikit-learn.org/stable/modules/generated/sklearn.neighbors.KNeighborsClassifier.html#sklearn.neighbors.KNeighborsClassifier) where we have set the number of neighbors to be 84.\n",
        "\n",
        "If we only look at the Accuracy metric the linear SVM is better (79.51 compared to 79.16). However the KNN performs much better on the Attribution label as shown by the F1 score of 35.66 compared to the SVM's 26.87. Further it has a better Macro F1 score. This shows to some degree why you may prefer the KNN classifier over the Linear SVM as it can perform much better on the least represented class while performing almost on par with the most represented class. **More importantly** this shows why looking at more than one metric is important.\n",
        "\n",
        "### Finding the best features and classifier parameters (hyperparameter tuning)\n",
        "\n",
        "As stated from the custom classifier we to some extent arbtarily chose the number of neighbors to be 84 but in fact this might not be the best number of neighbors. This problem also applies to other parts of out 6 step pipeline such as:\n",
        "1. Whether to use uni-grams, bi-grams or uni-grams and bi-grams. Or other combination of n-grams.\n",
        "2. *k* in the number of top feature to select when using the chi-squared statistic. In our previous experiment here we used 10 which is probably not large enough as this would mean we only show the classifier 10 unique words word counts which is not many when we have 13,654 unique words in the training set (see code below).\n",
        "3. Currently we scale the features which is generally a good thing but for some classifier this might not be. Therefore testing if scaling helps might be a good idea."
      ]
    },
    {
      "cell_type": "code",
      "metadata": {
        "id": "FX8wIQkvmeMb",
        "colab_type": "code",
        "outputId": "4210ad7b-7d83-42bc-8ac3-1e900b6b5131",
        "colab": {
          "base_uri": "https://localhost:8080/",
          "height": 34
        }
      },
      "source": [
        "number_unique_words_in_train = len(set([word for sentence in train_tok_sentences for word in sentence.split()]))\n",
        "print('Number of unique words in the training set for '\n",
        "      f'Experiment 3: {number_unique_words_in_train}')"
      ],
      "execution_count": 0,
      "outputs": [
        {
          "output_type": "stream",
          "text": [
            "Number of unique words in the training set for Experiment 3: 13654\n"
          ],
          "name": "stdout"
        }
      ]
    },
    {
      "cell_type": "markdown",
      "metadata": {
        "id": "BTFb3NcGnQvv",
        "colab_type": "text"
      },
      "source": [
        "In our own experiments we searched for the best parameters from the following search space:\n",
        "1. Using uni-grams only or using uni-grams and bi-grams (2 options)\n",
        "2. *k* from the feature selection can be any random integer from 100 to 1500 (1400 different options). We could have choosen a larger range but we believe this range to be larger enough.\n",
        "3. Whether to use MaxAbsScalar or not (2 options).\n",
        "\n",
        "Therefore we have 2 * 2 * 1400 = 5600 different options.\n",
        "\n",
        "To find which of these options is best without overfitting to the test dataset we use 10-fold Cross Validation (CV) for each option which basically splits the dataset up into 10 different train and test splits and runs the pipeline 10 times on these splits and then reports the average of these 10 results.\n",
        "\n",
        "As 5600 options is far too many options we perform [Random Search CV](https://scikit-learn.org/stable/modules/generated/sklearn.model_selection.RandomizedSearchCV.html#sklearn.model_selection.RandomizedSearchCV) which selects at random one these 5600 options and runs the 10 fold CV, this is repeated *n* times where *n* defines our budget which in our case and the one shown below is 40 (40 again is an arbitrary number).\n",
        "\n",
        "These 5600 parameters are just feature parameters that we can tune, there are more! We can tune the classifier parameters such as the number of neighbors in the KNN. In out experiments we tune the following classifier parameters for the associated classifiers:\n",
        "1. MNB\n",
        "  * label/class prior: Whether or not learn the class prior or use a uniform prior. (2 options)\n",
        "2. CMB\n",
        "  * label/class prior: Whether or not learn the class prior or use a uniform prior. (2 options)\n",
        "  * weight normlisation: Whether or not to normalise the weights based on the document length. (2 options)\n",
        "3. RF\n",
        "  * Number of trees. This is chosen from a random integer between 10 and 50. (40 options)\n",
        "4. Linear SVM\n",
        "  * C Penalty: One of the following 5 options [10, 1, 0.1, 0.001, 0.0001]\n",
        "5. MLP NN:\n",
        "  * The NN size and dimension: One of the following 4 options: [(50,), (100, 50), (50, 25), (75, 35)]. Where (50,) means one layer NN with the first layer of size 50 and (100, 50) means two layer NN with the first layer of size 100 and the second 50.\n",
        "\n",
        "As can be seen depending on the classifier used in our experiments affects our search space size e.g. MNB search space is 5600 * 2 = 12200 where as the RF = 5600 * 40 = 224000. Hence this is the reason why a budget is needed so that each classifier/pipeline is fairly compared.\n",
        "\n",
        "Below how the Random Search CV can be implemented with a budget of 40 given the search space defined above for the Linear SVM on our current experiment (`exp3`).\n",
        "\n",
        "Note we are using a helper function `classifier_grid_search` which will only search the search spaces we have defined above for the classifiers and pipeline we stated above and will not work with custom classifiers like the KNN used earlier."
      ]
    },
    {
      "cell_type": "code",
      "metadata": {
        "id": "BR18yrt_4VFl",
        "colab_type": "code",
        "outputId": "9663819a-d988-463e-c91f-96c5ea2b5b1b",
        "colab": {
          "base_uri": "https://localhost:8080/",
          "height": 119
        }
      },
      "source": [
        "from pea_classification.classifier_util import classifier_grid_search\n",
        "\n",
        "clf_grid_search = classifier_grid_search(train_tok_sentences, train_labels, \n",
        "                                         classifier_name='svm_classifier', \n",
        "                                         budget=40, oversample=False, \n",
        "                                         undersample=False, save_results=None, \n",
        "                                         save_model=None)\n",
        "best_mean_acc, best_acc_sd, best_params, tuned_svm_clf = clf_grid_search\n",
        "best_mean_acc = round(best_mean_acc * 100, 2)\n",
        "best_acc_sd = round(best_acc_sd * 100, 2)\n",
        "print('The best parameters mean accuracy across the 10 CV folds: '\n",
        "      f'{best_mean_acc} and Standard Deviation: {best_acc_sd}')\n",
        "print('Best parameters found given the budget of 40:')\n",
        "for parameter_name, parameter_value in best_params.items():\n",
        "  print(f'Parameter name and value: {parameter_name} {parameter_value}')"
      ],
      "execution_count": 0,
      "outputs": [
        {
          "output_type": "stream",
          "text": [
            "The best parameters mean accuracy across the 10 CV folds: 80.46 and Standard Deviation: 2.69\n",
            "Best parameters found given the budget of 40:\n",
            "Parameter name and value: clf__C 0.001\n",
            "Parameter name and value: feature_selector__k 584\n",
            "Parameter name and value: scale None\n",
            "Parameter name and value: vect__ngram_range (1, 1)\n"
          ],
          "name": "stdout"
        }
      ]
    },
    {
      "cell_type": "markdown",
      "metadata": {
        "id": "dI3bRW_CcmVW",
        "colab_type": "text"
      },
      "source": [
        "As we can see the best pipeline parameters are using uni-grams, top 584 features from the feature selector, not scaling and the classifier have a C penalty of 0.001.\n",
        "\n",
        "Across the 10 folds it got a mean accuracy score of 80.46% with 2.69 standard deviation. Lets see how this pipeline does on the test set:"
      ]
    },
    {
      "cell_type": "code",
      "metadata": {
        "id": "tY6KvU7QqFcN",
        "colab_type": "code",
        "outputId": "fcfc0de9-4938-453c-afcf-668d078c8232",
        "colab": {
          "base_uri": "https://localhost:8080/",
          "height": 85
        }
      },
      "source": [
        "tuned_test_scores = predict_score(tuned_svm_clf, test_tok_sentences, test_labels)\n",
        "tuned_test_scores = {score_name: round(score_value * 100, 2) \n",
        "                     for score_name, score_value in tuned_test_scores.items()}\n",
        "print(f\"Accuracy {tuned_test_scores['Accuracy']}\")\n",
        "print(f\"Macro F1 {tuned_test_scores['Macro F1']}\")\n",
        "print(f\"F1 attribution label {tuned_test_scores['F1 Class 1']}\")\n",
        "print(f\"F1 no-attribution label {tuned_test_scores['F1 Class 2']}\")"
      ],
      "execution_count": 0,
      "outputs": [
        {
          "output_type": "stream",
          "text": [
            "Accuracy 81.95\n",
            "Macro F1 68.41\n",
            "F1 attribution label 47.72\n",
            "F1 no-attribution label 89.09\n"
          ],
          "name": "stdout"
        }
      ]
    },
    {
      "cell_type": "markdown",
      "metadata": {
        "id": "GA1qeglmd0Mi",
        "colab_type": "text"
      },
      "source": [
        "As we can see this massively outperforms the original Linear SVM that uses the non-tuned parameters. Original Linear SVM got 79.51, 61.61, 26.87, 88.08 of which we can see that the tuned made massive gains in performing better on the smallest label set, label 1 which is great news. **This shows why it is so important to hyperparameter tune**. Further the Linear SVM now outperforms the KNN on all metrics, but the KNN has not be tuned so the comparison is unfair.\n",
        "\n",
        "### Over and under sampling\n",
        "Now that we have shown the importance og hyperparameter tuning next we want to show why under and over sampling is important. This is actually quite easy, it is just another step in the pipeline between, the feature selection step and the scaling step.\n",
        "\n",
        "NOTE: For those interested the over and under sampling was done using the [imbalanced package](https://imbalanced-learn.readthedocs.io/en/stable/index.html).\n",
        "\n",
        "Below we show the new pipeline for the original Linear SVM but with over sampling:"
      ]
    },
    {
      "cell_type": "code",
      "metadata": {
        "id": "SuHdJdT241h4",
        "colab_type": "code",
        "outputId": "83da4313-c949-4502-8164-070e73911107",
        "colab": {
          "base_uri": "https://localhost:8080/",
          "height": 323
        }
      },
      "source": [
        "bow_over_pipeline = classifier_pipeline(oversample=True, undersample=False, \n",
        "                                        classifier=LinearSVC())\n",
        "bow_over_pipeline.steps"
      ],
      "execution_count": 0,
      "outputs": [
        {
          "output_type": "execute_result",
          "data": {
            "text/plain": [
              "[('vect', CountVectorizer(analyzer='word', binary=False, decode_error='strict',\n",
              "                  dtype=<class 'numpy.int64'>, encoding='utf-8', input='content',\n",
              "                  lowercase=True, max_df=1.0, max_features=None, min_df=1,\n",
              "                  ngram_range=(1, 2), preprocessor=None, stop_words=None,\n",
              "                  strip_accents=None, token_pattern='(?u)\\\\b\\\\w\\\\w+\\\\b',\n",
              "                  tokenizer=<method 'split' of 'str' objects>, vocabulary=None)),\n",
              " ('tfidf',\n",
              "  TfidfTransformer(norm=None, smooth_idf=True, sublinear_tf=False, use_idf=True)),\n",
              " ('feature_selector',\n",
              "  SelectKBest(k=10, score_func=<function chi2 at 0x7f51197d90d0>)),\n",
              " ('sampler',\n",
              "  RandomOverSampler(random_state=42, ratio=None, return_indices=False,\n",
              "                    sampling_strategy='auto')),\n",
              " ('scale', MaxAbsScaler(copy=True)),\n",
              " ('clf', LinearSVC(C=1.0, class_weight=None, dual=True, fit_intercept=True,\n",
              "            intercept_scaling=1, loss='squared_hinge', max_iter=1000,\n",
              "            multi_class='ovr', penalty='l2', random_state=None, tol=0.0001,\n",
              "            verbose=0))]"
            ]
          },
          "metadata": {
            "tags": []
          },
          "execution_count": 37
        }
      ]
    },
    {
      "cell_type": "markdown",
      "metadata": {
        "id": "jIHc5CqxfTHl",
        "colab_type": "text"
      },
      "source": [
        "As we can see above we now have a `sampler` step.\n",
        "\n",
        "Lets see how this performs once trained and tested on the same `exp3` dataset:"
      ]
    },
    {
      "cell_type": "code",
      "metadata": {
        "id": "PO3pNC9Pffys",
        "colab_type": "code",
        "outputId": "769a2cb0-e231-41c9-df2e-80b830fab07b",
        "colab": {
          "base_uri": "https://localhost:8080/",
          "height": 85
        }
      },
      "source": [
        "bow_over_pipeline.fit(train_tok_sentences, train_labels)\n",
        "from pea_classification.classifier_util import predict_score\n",
        "over_test_scores = predict_score(bow_over_pipeline, test_tok_sentences, test_labels)\n",
        "over_test_scores = {score_name: round(score_value * 100, 2) \n",
        "                    for score_name, score_value in over_test_scores.items()}\n",
        "print(f\"Accuracy {over_test_scores['Accuracy']}\")\n",
        "print(f\"Macro F1 {over_test_scores['Macro F1']}\")\n",
        "print(f\"F1 attribution label {over_test_scores['F1 Class 1']}\")\n",
        "print(f\"F1 no-attribution label {over_test_scores['F1 Class 2']}\")"
      ],
      "execution_count": 0,
      "outputs": [
        {
          "output_type": "stream",
          "text": [
            "Accuracy 78.0\n",
            "Macro F1 64.92\n",
            "F1 attribution label 43.49\n",
            "F1 no-attribution label 86.34\n"
          ],
          "name": "stdout"
        }
      ]
    },
    {
      "cell_type": "markdown",
      "metadata": {
        "id": "_-b4sD77fuO9",
        "colab_type": "text"
      },
      "source": [
        "We can see that the Accuracy is worse than not oversampling (79.51). However the F1 score for the samllest label is much better (26.87), where as the F1 for the most representative label is marginally worse (88.08), but overall the Macro F1 has gone up (61.61). This again shows how skewed the results can look when only looking at the accuracy metric. Even though we have not beaten the original Linear SVM on accuracy we have on Macro F1 which we think shows the merits of over sampling.\n",
        "\n",
        "Lets have a look at the scores if the over sampling was also hyperparameter tuned:"
      ]
    },
    {
      "cell_type": "code",
      "metadata": {
        "id": "k8nz32IKff1I",
        "colab_type": "code",
        "outputId": "ff308648-f5f6-43a2-8742-eebe9bf0e94c",
        "colab": {
          "base_uri": "https://localhost:8080/",
          "height": 187
        }
      },
      "source": [
        "clf_over_grid_search = classifier_grid_search(train_tok_sentences, train_labels, \n",
        "                                              classifier_name='svm_classifier', \n",
        "                                              budget=40, save_results=None, \n",
        "                                              save_model=None, oversample=True, \n",
        "                                              undersample=False)\n",
        "best_over_mean_acc, best_over_acc_sd, best_over_params, tuned_over_svm_clf = clf_over_grid_search\n",
        "best_over_mean_acc = round(best_over_mean_acc * 100, 2)\n",
        "best_over_acc_sd = round(best_over_acc_sd * 100, 2)\n",
        "print('The best parameters mean accuracy across the 10 CV folds: '\n",
        "      f'{best_over_mean_acc} and Standard Deviation: {best_over_acc_sd}')\n",
        "print('Best parameters found given the budget of 40:')\n",
        "for parameter_name, parameter_value in best_over_params.items():\n",
        "  print(f'Parameter name and value: {parameter_name} {parameter_value}')\n",
        "tuned_over_test_scores = predict_score(tuned_over_svm_clf, test_tok_sentences, test_labels)\n",
        "tuned_over_test_scores = {score_name: round(score_value * 100, 2) \n",
        "                          for score_name, score_value in tuned_over_test_scores.items()}\n",
        "print(f\"Accuracy {tuned_over_test_scores['Accuracy']}\")\n",
        "print(f\"Macro F1 {tuned_over_test_scores['Macro F1']}\")\n",
        "print(f\"F1 attribution label {tuned_over_test_scores['F1 Class 1']}\")\n",
        "print(f\"F1 no-attribution label {tuned_over_test_scores['F1 Class 2']}\")"
      ],
      "execution_count": 0,
      "outputs": [
        {
          "output_type": "stream",
          "text": [
            "The best parameters mean accuracy across the 10 CV folds: 78.77 and Standard Deviation: 3.18\n",
            "Best parameters found given the budget of 40:\n",
            "Parameter name and value: clf__C 0.1\n",
            "Parameter name and value: feature_selector__k 1432\n",
            "Parameter name and value: scale MaxAbsScaler(copy=True)\n",
            "Parameter name and value: vect__ngram_range (1, 2)\n",
            "Accuracy 80.19\n",
            "Macro F1 72.19\n",
            "F1 attribution label 57.28\n",
            "F1 no-attribution label 87.11\n"
          ],
          "name": "stdout"
        }
      ]
    },
    {
      "cell_type": "markdown",
      "metadata": {
        "id": "L1XyJH29hidi",
        "colab_type": "text"
      },
      "source": [
        "Again hyperparameter tuning improves scores! However compared to the un-balanced (non over sampled) tuned Linear SVM it performs worse on the accuracy metric (81.95) and the F1 score on the majority class (89.09). **HOWEVER** it is much better on the smaller class once again (47.72) and a lot better on the Macro F1 score (68.41). **This shows the random over sampling does help when it comes to un-balanced datasets.**\n",
        "\n",
        "NOTE: To perform under sampling instead of over sampling set the `oversample` argument to `False` and the `undersample` to `True`.\n",
        "\n",
        "Further if you want to save any of the tuned models or save the results to a csv file, use the `save_model` and `save_results` arguments respectively within the `classifier_grid_search` function.\n",
        "\n",
        "## Word list approaches\n",
        "\n",
        "In this python package we have 8 different word lists of which these lists can be goruped into the experiments that they can be applied to:\n",
        "\n",
        "1. Tone/Sentiment lists (Experiments: `exp1`, `exp2`, `exp10a`, `exp10b`)\n",
        "  * [Loughran & McDonald (L&M)](https://papers.ssrn.com/sol3/papers.cfm?abstract_id=2504147)\n",
        "  * [Henry 2008 (HEN_08)](https://papers.ssrn.com/sol3/papers.cfm?abstract_id=933100)\n",
        "  * [Henry 2006 (HEN_06)](https://papers.ssrn.com/sol3/papers.cfm?abstract_id=958749)\n",
        "2. Attribution detection (Experiments: `exp3`, `exp4`, `exp6a`, `exp6b`)\n",
        "  * [Zhang and Aerts 2015 (ZA_2015)](https://onlinelibrary.wiley.com/doi/full/10.1111/jbfa.12351)  -- (in the paper this is called `LIWC`)\n",
        "  * [Dikoli et al. 2016 (Dikoli_2016)](https://meridian.allenpress.com/accounting-review/article-abstract/95/2/61/429958/CEO-Behavioral-Integrity-Auditor-Responses-and?redirectedFrom=fulltext)  -- (in the paper this is called `DIK`)\n",
        "  * Martin Walker All (MW_ALL) -- (in the paper this is called `ATT_ALL`)\n",
        "  * Martin Walker 50 (MW_50) -- (in the paper this is called `ATT_50`)\n",
        "3. Attribution type detection e.g. distinugshing between Internal and External attribution (Experiment: `exp5`):\n",
        "  * Martin Walker Attribution Type (MW_TYPE)  -- (in the paper this is called `ATT_TYPE`)\n",
        "\n",
        "As you can see we do not have a word list for the performance sentences. All of the Martin Walker word lists are word lists that [Prof. Martin Walker](https://www.research.manchester.ac.uk/portal/martin.walker.html) created.\n",
        "\n",
        "### Loading the word lists\n",
        "Below we show for each these word lists how they can be automatically loaded into a Python List.\n",
        "\n",
        "There are a few things to know before loading these word lists:\n",
        "1. The word lists are automatically downloaded into the cache directory `~/.pea_directory/`\n",
        "2. Each word in the word list will be lower cased and all word lists are expanded based American to British English word matching e.g. if the word list has an American spelling e.g. `favored` then the British version will be added to the list `favoured` this also happens vice versa. For theose interested the dictionary mapping US to GB words can be found via this code snippet `pea_classification.word_list_util.US2UK`\n",
        "3. Some of the word lists have multiple lists which will be explained below.\n",
        "\n",
        "Below we show an example of how to load a word list specifically the Loughran and McDonald positive and negative lists:"
      ]
    },
    {
      "cell_type": "code",
      "metadata": {
        "id": "5v73r-fTkzHT",
        "colab_type": "code",
        "outputId": "6296a6b3-34ed-4580-bd44-6169a520fa2d",
        "colab": {
          "base_uri": "https://localhost:8080/",
          "height": 68
        }
      },
      "source": [
        "from pea_classification.word_list_util import download_and_read_word_list\n",
        "lm_pos = download_and_read_word_list('L&M pos')\n",
        "lm_neg = download_and_read_word_list('L&M neg')\n",
        "print(f'Length of the positive and negative lists: {len(lm_pos)}, '\n",
        "      f'{len(lm_neg)}')\n",
        "print(f'5 words from the positive list: {lm_pos[:5]}')\n",
        "print(f'5 words from the negative list: {lm_neg[:5]}')"
      ],
      "execution_count": 0,
      "outputs": [
        {
          "output_type": "stream",
          "text": [
            "Length of the positive and negative lists: 370, 2397\n",
            "5 words from the positive list: ['enjoy', 'resolve', 'progresses', 'succeeds', 'versatility']\n",
            "5 words from the negative list: ['redact', 'overcharge', 'protested', 'overestimating', 'mismatching']\n"
          ],
          "name": "stdout"
        }
      ]
    },
    {
      "cell_type": "markdown",
      "metadata": {
        "id": "FAwZ3IWbALjv",
        "colab_type": "text"
      },
      "source": [
        "#### Loading sentiment/tone word lists\n",
        "Each one of the three lists have two sub lists each, a positive and a negative list, below we show how to load each one and the lengths of each list:"
      ]
    },
    {
      "cell_type": "code",
      "metadata": {
        "id": "Q64rIlkeAfLF",
        "colab_type": "code",
        "outputId": "c41b1bb8-76f5-45c3-f913-5c78df3ce929",
        "colab": {
          "base_uri": "https://localhost:8080/",
          "height": 119
        }
      },
      "source": [
        "tone_word_lists = ['L&M pos', 'L&M neg', 'HEN 08 pos', 'HEN 08 neg', \n",
        "                   'HEN 06 pos', 'HEN 06 neg']\n",
        "for tone_word_list in tone_word_lists:\n",
        "  load_word_list = download_and_read_word_list(tone_word_list)\n",
        "  print(f'{tone_word_list}, length: {len(load_word_list)}')"
      ],
      "execution_count": 0,
      "outputs": [
        {
          "output_type": "stream",
          "text": [
            "L&M pos, length: 370\n",
            "L&M neg, length: 2397\n",
            "HEN 08 pos, length: 104\n",
            "HEN 08 neg, length: 86\n",
            "HEN 06 pos, length: 117\n",
            "HEN 06 neg, length: 94\n"
          ],
          "name": "stdout"
        }
      ]
    },
    {
      "cell_type": "markdown",
      "metadata": {
        "id": "zO_1h72pB3ul",
        "colab_type": "text"
      },
      "source": [
        "#### Loading attribution detection lists\n",
        "Each of the 4 word lists only contain one word list thus no sub-lists. Unlike the tone lists where you could perhaps classify a sentence as positive if it contains more positive words than negative, these lists are used in the manner that if any word in a sentence is within one of these lists then that sentence is classified as a sentence that contains attribution."
      ]
    },
    {
      "cell_type": "code",
      "metadata": {
        "id": "fgdBYORkCq2N",
        "colab_type": "code",
        "outputId": "b33af195-c5d8-4edc-8468-f5b9618c9888",
        "colab": {
          "base_uri": "https://localhost:8080/",
          "height": 85
        }
      },
      "source": [
        "attribution_word_lists = ['Dikoli_2016', 'ZA_2015', 'MW_ALL', 'MW_50']\n",
        "for attribution_word_list in attribution_word_lists:\n",
        "  load_word_list = download_and_read_word_list(attribution_word_list)\n",
        "  print(f'{attribution_word_list}, length: {len(load_word_list)}')"
      ],
      "execution_count": 0,
      "outputs": [
        {
          "output_type": "stream",
          "text": [
            "Dikoli_2016, length: 139\n",
            "ZA_2015, length: 108\n",
            "MW_ALL, length: 256\n",
            "MW_50, length: 50\n"
          ],
          "name": "stdout"
        }
      ]
    },
    {
      "cell_type": "markdown",
      "metadata": {
        "id": "BrUweURIC8ci",
        "colab_type": "text"
      },
      "source": [
        "#### Loading the attribution type list\n",
        "`MW_TYPE` list contains two sub lists 1. Internal and 2. External attribution lists. Similar in method to the tone lists these lists can be used to classify sentences into Internal or External attribution sentences."
      ]
    },
    {
      "cell_type": "code",
      "metadata": {
        "id": "0GwN9o-9DVQ6",
        "colab_type": "code",
        "outputId": "b8863e40-3cec-40aa-f3d1-ddfe1b381d99",
        "colab": {
          "base_uri": "https://localhost:8080/",
          "height": 51
        }
      },
      "source": [
        "load_word_list = download_and_read_word_list('MW TYPE INT')\n",
        "print(f'MW TYPE INT, length: {len(load_word_list)}')\n",
        "load_word_list = download_and_read_word_list('MW TYPE EXT')\n",
        "print(f'MW TYPE EXT, length: {len(load_word_list)}')"
      ],
      "execution_count": 0,
      "outputs": [
        {
          "output_type": "stream",
          "text": [
            "MW TYPE INT, length: 396\n",
            "MW TYPE EXT, length: 445\n"
          ],
          "name": "stdout"
        }
      ]
    },
    {
      "cell_type": "markdown",
      "metadata": {
        "id": "THVCJSTWDny6",
        "colab_type": "text"
      },
      "source": [
        "### Classifying with the word lists\n",
        "\n",
        "As suggested in the loading section these lists can be used to classify sentence. To do so we have created a custom SKLearn Estimator that classify sentences based on the word list that is given. The classification rules are different depending on the word list used thus below we state how the classification is done based on the type of the word list:\n",
        "\n",
        "1. Tone/Sentiment lists -- classification rule: Frequency of Positive words is greater than Negative words then Positive else Negative. Ties are assigned to the negative class, this also applied for `exp10a` where if it is a positive sentence then it is also a performance sentence. For `exp10b` we flip it around where if the number of negative words is greater than positive then it is a performance sentence else not a performance sentence.\n",
        "2. Attribution detection lists -- classification rule: If a word in the sentence is within the attribution list then it is classified as an attribution else no attribution.\n",
        "3. Attribution type -- classification rule: Frequency of Internal words is greater than External words then Internal else External. Ties are assigned to the External class.\n",
        "\n",
        "Below we show how to load the **HEN_08** word list and classify for the `exp10a` experiment:"
      ]
    },
    {
      "cell_type": "code",
      "metadata": {
        "id": "yzjcxo5O9VoZ",
        "colab_type": "code",
        "outputId": "ae9619c3-e97f-4e45-cb81-47294a037930",
        "colab": {
          "base_uri": "https://localhost:8080/",
          "height": 85
        }
      },
      "source": [
        "from pea_classification.classifiers import WordListClassifier\n",
        "from pea_classification.classifier_util import predict_score\n",
        "\n",
        "exp10a_train_data = pea_classification.dataset_util.get_experiment_data(train_dataset, 'exp10a', 'sentence')\n",
        "exp10a_test_data = pea_classification.dataset_util.get_experiment_data(test_dataset, 'exp10a', 'sentence')\n",
        "train_exp10a_sentences, train_exp10a_labels = exp10a_train_data\n",
        "test_exp10a_sentences, test_exp10a_labels = exp10a_test_data\n",
        "\n",
        "hen_08_exp10a = WordListClassifier('HEN_08', n_jobs=None)\n",
        "hen_08_exp10a.fit(train_exp10a_sentences)\n",
        "\n",
        "test_exp10a_scores = predict_score(hen_08_exp10a, test_exp10a_sentences, test_exp10a_labels)\n",
        "test_exp10a_scores = {score_name: round(score_value * 100, 2) \n",
        "                      for score_name, score_value in test_exp10a_scores.items()}\n",
        "print(f\"Accuracy {test_exp10a_scores['Accuracy']}\")\n",
        "print(f\"Macro F1 {test_exp10a_scores['Macro F1']}\")\n",
        "print(f\"F1 attribution label {test_exp10a_scores['F1 Class 1']}\")\n",
        "print(f\"F1 no-attribution label {test_exp10a_scores['F1 Class 2']}\")"
      ],
      "execution_count": 0,
      "outputs": [
        {
          "output_type": "stream",
          "text": [
            "Accuracy 62.93\n",
            "Macro F1 62.42\n",
            "F1 attribution label 58.02\n",
            "F1 no-attribution label 66.82\n"
          ],
          "name": "stdout"
        }
      ]
    },
    {
      "cell_type": "markdown",
      "metadata": {
        "id": "k3hy0_rbBaN4",
        "colab_type": "text"
      },
      "source": [
        "A few things you may have noticed that are different from using the machine learning BOW classifiers from above:\n",
        "1. The text is not tokenised -- this is because the word list classifier does this internally using whitespace.\n",
        "2. When fitting the word list classifier `fit(train_exp10a_sentences)` you do not have to provide any labels. This is because all the `fit` function does is download the word list to the cache directory `~/.pea_directory/`, if the word list has not already been downloaded. Thus you do not actually have to provide all those sentences an empty list would work the same e.g. `hen_08_exp10a.fit([])`\n",
        "3. The `n_jobs=None` in the `WordListClassifier` constructor specifies the number of CPUs you want the classifier to use here `None` means all. If you only want one CPU to be used then change `None` to `1`. The more CPUs you use the faster the classification will be.\n",
        "\n",
        "Now that we have shown you how to classify the word lists on a test set, of which as these are word lists and do not require training data they could have also been evaluated on the training dataset. We are going to show you how you can evaluate these word lists using 10 fold cross validation like the BOW machine learning methods:\n",
        "\n"
      ]
    },
    {
      "cell_type": "code",
      "metadata": {
        "id": "uITWH-VtGuuo",
        "colab_type": "code",
        "outputId": "480845ae-90b8-4693-9137-b26286e094be",
        "colab": {
          "base_uri": "https://localhost:8080/",
          "height": 51
        }
      },
      "source": [
        "from pea_classification.classifier_util import word_list_cv_scoring\n",
        "\n",
        "result = word_list_cv_scoring(train_exp10a_sentences, train_exp10a_labels, 'HEN_08', \n",
        "                              save_results=None, save_model=None, cv=10, n_jobs=1)\n",
        "mean_acc, sd, hen_08_clf = result\n",
        "mean_acc = round(mean_acc * 100, 2)\n",
        "sd = round(sd * 100, 2)\n",
        "print(f'Mean 10 fold accuracy {mean_acc} standard deviation {sd}')\n",
        "hen_08_clf.predict(['Profit went up today'])"
      ],
      "execution_count": 0,
      "outputs": [
        {
          "output_type": "stream",
          "text": [
            "Mean 10 fold accuracy 63.45 standard deviation 2.49\n"
          ],
          "name": "stdout"
        },
        {
          "output_type": "execute_result",
          "data": {
            "text/plain": [
              "array([1])"
            ]
          },
          "metadata": {
            "tags": []
          },
          "execution_count": 45
        }
      ]
    },
    {
      "cell_type": "markdown",
      "metadata": {
        "id": "Q56MWAA_IChR",
        "colab_type": "text"
      },
      "source": [
        "As you can see this function is very similar to the `classifier_grid_search` method for the BOW machine learning methods. There are 3 major argument differences: There are no `oversample`, `undersample`, or `budget` arguments. This is because the word lists are static and have no trainable compents. Thus all this function does it run the word lists on 10 different splits of the training data.\n",
        "\n",
        "The mean accuracy result of 63.45 with a standard deviation 2.49 represents the test accuracy that we achieved in the previous cell (62.93) very well. Thus showing that 10 fold Cross Validation approximates the test split very well.\n",
        "\n",
        "We can see the output trained classifier predicted the `Profit went up today` sentence correctly as a performance sentence (class 1).\n",
        "\n",
        "## Pre-Trained BOW models\n",
        "\n",
        "There is a Pre-Trained BOW model for: \n",
        "1. Each experiment \n",
        "2. Each type of sampling (no sampling, under, and over)\n",
        "3. Each classifier (complement_naive_bayes, multinomial_naive_bayes, random_forest, svm_classifier, and mlp_classifier)\n",
        "4. Metric (accuracy or macro F1) \n",
        "\n",
        "The metric is an option as after each classifier has been through the cross validation stage testing the different hyper parameters can produce different results where by one setting of parameters might be better for the accuracy metric and another for Macro F1.\n",
        "\n",
        "All of these classifiers have been trained on the whole training corpus and have been hyper parameter tuned with a budget of 40 as explained in the hyper parameter tuning section and in the README.\n",
        "\n",
        "### How to evaluate using a pre-trained model\n",
        "\n",
        "We shall get the Random Forest (RF) classifier that has been trained on `exp6b` (predicting if the sentence is an `attribution` given all the attribution sentences are all `External`). We shall get the RF model that is best on accuracy and the RF model best on Macro F1 and compare the two:"
      ]
    },
    {
      "cell_type": "code",
      "metadata": {
        "id": "0cd8fZ2f_GGh",
        "colab_type": "code",
        "outputId": "b694ec9b-19ab-4e45-db67-b10a54a981dc",
        "colab": {
          "base_uri": "https://localhost:8080/",
          "height": 204
        }
      },
      "source": [
        "from pea_classification.classifier_util import get_pre_trained_models\n",
        "rf_clf_acc = get_pre_trained_models('random_forest', 'un_balanced', 'exp6b')\n",
        "rf_clf_macro_f1 = get_pre_trained_models('random_forest', 'un_balanced', 'exp6b', \n",
        "                                          metric='macro_f1')\n",
        "test_sentences, test_labels = pea_classification.dataset_util.get_experiment_data(test_dataset, 'exp6b', 'tokeniser_sentences')\n",
        "print('RF best on accuracy results:')\n",
        "for key, value in predict_score(rf_clf_acc, test_sentences, test_labels).items():\n",
        "  value = round(value, 4) * 100\n",
        "  print(f'{key}: {value}')\n",
        "print('-------------------------------')\n",
        "print('RF best on Macro F1 results:')\n",
        "for key, value in predict_score(rf_clf_macro_f1, test_sentences, test_labels).items():\n",
        "  value = round(value, 4) * 100\n",
        "  print(f'{key}: {value}')"
      ],
      "execution_count": 0,
      "outputs": [
        {
          "output_type": "stream",
          "text": [
            "RF best on accuracy results:\n",
            "Accuracy: 91.82000000000001\n",
            "F1 Class 1: 21.88\n",
            "F1 Class 2: 95.69\n",
            "Macro F1: 58.78\n",
            "-------------------------------\n",
            "RF best on Macro F1 results:\n",
            "Accuracy: 91.0\n",
            "F1 Class 1: 32.940000000000005\n",
            "F1 Class 2: 95.17\n",
            "Macro F1: 64.05999999999999\n"
          ],
          "name": "stdout"
        }
      ]
    },
    {
      "cell_type": "markdown",
      "metadata": {
        "id": "KGn_mlzQAtgU",
        "colab_type": "text"
      },
      "source": [
        "As we can see the RF model that is best on accuracy is best on the accuracy metric on the test split and the Macro F1 model is best on the Macro F1 metric. \n",
        "\n",
        "Further these results match those from the test results as should be expected. The test result for the accuracy model can be found on row 586 from this [CSV file.](https://delta.lancs.ac.uk/cfie/pea_classification_zoo/blob/master/results/test_raw_results_accuracy.csv#L586) and the same for the Macro F1 score from this [CSV file.](https://delta.lancs.ac.uk/cfie/pea_classification_zoo/blob/master/results/test_raw_results_macro_f1.csv#L586)\n",
        "\n",
        "These models can be used to predict just on one sentence like so:"
      ]
    },
    {
      "cell_type": "code",
      "metadata": {
        "id": "8AGAzHs7-UsV",
        "colab_type": "code",
        "outputId": "e1d1f488-5220-411c-a269-2b6080c7f835",
        "colab": {
          "base_uri": "https://localhost:8080/",
          "height": 34
        }
      },
      "source": [
        "rf_clf_macro_f1.predict(['Profits went up due to weather conditions', \n",
        "                         'Profits went up due to due to the chairmen'])"
      ],
      "execution_count": 0,
      "outputs": [
        {
          "output_type": "execute_result",
          "data": {
            "text/plain": [
              "array([1., 2.])"
            ]
          },
          "metadata": {
            "tags": []
          },
          "execution_count": 47
        }
      ]
    },
    {
      "cell_type": "markdown",
      "metadata": {
        "id": "Ua-Q4kfKFWHr",
        "colab_type": "text"
      },
      "source": [
        "As we can see the first sentence is clearly an external attribution sentence and it predicted that correctly, where as the second sentence is an internal attribution sentence and it predicted that correctly as well.\n",
        "\n",
        "Further as all of the BOW models are SKLearn native classifiers (this will not work with the word list methods) we can get the probabilities of these sentneces being in class 1 and 2 respectively:"
      ]
    },
    {
      "cell_type": "code",
      "metadata": {
        "id": "1n1w7197D_xM",
        "colab_type": "code",
        "outputId": "81aed7c9-4b2b-42c4-c885-208d299607b1",
        "colab": {
          "base_uri": "https://localhost:8080/",
          "height": 51
        }
      },
      "source": [
        "rf_clf_macro_f1.predict_proba(['Profits went up due to weather conditions', \n",
        "                               'Profits went up due to due to the chairmen'])"
      ],
      "execution_count": 0,
      "outputs": [
        {
          "output_type": "execute_result",
          "data": {
            "text/plain": [
              "array([[0.51403509, 0.48596491],\n",
              "       [0.07468672, 0.92531328]])"
            ]
          },
          "metadata": {
            "tags": []
          },
          "execution_count": 48
        }
      ]
    },
    {
      "cell_type": "markdown",
      "metadata": {
        "id": "vdi1FLfWCB6J",
        "colab_type": "text"
      },
      "source": [
        "## Pre-Trained word lists\n",
        "\n",
        "Just like the Pre-Trained BOW models you can download ready to go word list classifiers. They have not been trained in that they require training data but they are word list classifiers that have been saved and can be used like the Pre-Trained BOW models.\n",
        "\n",
        "Just like the BOW models the pre-trained word list can be accessed the same way. Below shows how to get the [Zhang and Aerts 2015 (ZA_2015)](http://dx.doi.org/10.1080/00014788.2015.1048771) word list model for `exp6b`:"
      ]
    },
    {
      "cell_type": "code",
      "metadata": {
        "id": "WE3bYoGxCMWU",
        "colab_type": "code",
        "outputId": "3bf1bd5c-98e1-4819-c9a3-702edefd1b94",
        "colab": {
          "base_uri": "https://localhost:8080/",
          "height": 204
        }
      },
      "source": [
        "from pea_classification.classifier_util import get_pre_trained_models\n",
        "za_acc = get_pre_trained_models('ZA_2015', 'un_balanced', 'exp6b')\n",
        "za_macro_f1 = get_pre_trained_models('ZA_2015', 'un_balanced', 'exp6b', \n",
        "                                     metric='macro_f1')\n",
        "test_sentences, test_labels = pea_classification.dataset_util.get_experiment_data(test_dataset, 'exp6b', 'sentence')\n",
        "print('ZA 2015 best on accuracy results:')\n",
        "for key, value in predict_score(za_acc, test_sentences, test_labels).items():\n",
        "  value = round(value, 4) * 100\n",
        "  print(f'{key}: {value}')\n",
        "print('-------------------------------')\n",
        "print('ZA 2015 best on Macro F1 results:')\n",
        "for key, value in predict_score(za_macro_f1, test_sentences, test_labels).items():\n",
        "  value = round(value, 4) * 100\n",
        "  print(f'{key}: {value}')"
      ],
      "execution_count": 0,
      "outputs": [
        {
          "output_type": "stream",
          "text": [
            "ZA 2015 best on accuracy results:\n",
            "Accuracy: 83.64\n",
            "F1 Class 1: 15.43\n",
            "F1 Class 2: 90.95\n",
            "Macro F1: 53.190000000000005\n",
            "-------------------------------\n",
            "ZA 2015 best on Macro F1 results:\n",
            "Accuracy: 83.64\n",
            "F1 Class 1: 15.43\n",
            "F1 Class 2: 90.95\n",
            "Macro F1: 53.190000000000005\n"
          ],
          "name": "stdout"
        }
      ]
    },
    {
      "cell_type": "markdown",
      "metadata": {
        "id": "TEaNMAVmDeY_",
        "colab_type": "text"
      },
      "source": [
        "As we can see as `ZA 2015` is a word list there is no difference between the Accuracy and Macro F1 versions."
      ]
    },
    {
      "cell_type": "code",
      "metadata": {
        "id": "T1_e-aKCDlu-",
        "colab_type": "code",
        "colab": {}
      },
      "source": [
        ""
      ],
      "execution_count": 0,
      "outputs": []
    }
  ],
  "metadata": {
    "colab": {
      "name": "PEA Data Analysis.ipynb",
      "provenance": [],
      "collapsed_sections": [],
      "include_colab_link": true
    },
    "kernelspec": {
      "name": "python3",
      "display_name": "Python 3"
    }
  },
  "nbformat": 4,
  "nbformat_minor": 0
}